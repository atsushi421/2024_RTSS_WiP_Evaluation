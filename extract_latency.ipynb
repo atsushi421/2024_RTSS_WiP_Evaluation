{
 "cells": [
  {
   "cell_type": "code",
   "execution_count": null,
   "metadata": {},
   "outputs": [],
   "source": [
    "from caret_analyze import Application, Architecture, Lttng\n",
    "\n",
    "TRACE_DATA = '/home/atsushi/2024_RTSS_WiP_Evaluation/autoware_execution_times/session-20240807132325'\n",
    "\n",
    "lttng = Lttng(TRACE_DATA)\n",
    "arch = Architecture('lttng', TRACE_DATA)\n",
    "app = Application(arch, lttng)"
   ]
  },
  {
   "cell_type": "code",
   "execution_count": null,
   "metadata": {},
   "outputs": [],
   "source": [
    "import re\n",
    "from caret_analyze.runtime import CallbackBase\n",
    "\n",
    "\n",
    "def filter_cbs(cbs: list[CallbackBase]) -> list[CallbackBase]:\n",
    "    ignore_node_list = [\n",
    "        \".*/default_ad_api/.*\",\n",
    "        \".*radar.*\",\n",
    "        \".*_evaluator\",\n",
    "        \".*traffic_light.*\",\n",
    "        \"/system/.*\",\n",
    "        \"/map/.*\",\n",
    "        \"/control/external_.*\",\n",
    "        \"/localization/localization_error_monitor\",\n",
    "        \"/sensing/imu/gyro_bias_validator\",\n",
    "        \"/control/autonomous_emergency_braking\",\n",
    "        \"/localization/pose_twist_fusion_filter/pose_instability_detector\",\n",
    "        \"/vehicle/calibration/accel_brake_map_calibrator\",\n",
    "        \"/pacmod_diag_publisher\",\n",
    "        \"/pacmod/socket_can_sender\",\n",
    "        \"/pacmod_dynamic_parameter_changer\",\n",
    "        \"/pacmod/socket_can_receiver\",\n",
    "        \"/pacmod/pacmod\",\n",
    "        \"/control/control_validator\",\n",
    "        \"/control/autoware_operation_mode_transition_manager\",\n",
    "        \"/planning/mission_planning/goal_pose_visualizer\",\n",
    "        \"/planning/mission_planning/mission_planner\",\n",
    "        \"/planning/mission_planning/route_selector\",\n",
    "        \"/planning/scenario_planning/parking/freespace_planner\",\n",
    "        \"/planning/scenario_planning/parking/costmap_generator\",\n",
    "    ]\n",
    "\n",
    "    filtered_cbs = []\n",
    "\n",
    "    for cb in cbs:\n",
    "        ignore = False\n",
    "        # ignore_node_listの各パターンと照合\n",
    "        for pattern in ignore_node_list:\n",
    "            if re.match(pattern, cb.callback_name):\n",
    "                ignore = True\n",
    "                break\n",
    "\n",
    "        if not ignore:\n",
    "            filtered_cbs.append(cb)\n",
    "\n",
    "    return filtered_cbs"
   ]
  },
  {
   "cell_type": "code",
   "execution_count": null,
   "metadata": {},
   "outputs": [],
   "source": [
    "from caret_analyze.record import Latency\n",
    "from caret_analyze.runtime import CallbackBase\n",
    "import pandas as pd\n",
    "import numpy as np\n",
    "\n",
    "OUTPUT_DIR = \"/home/atsushi/2024_RTSS_WiP_Evaluation/autoware_execution_times\"\n",
    "\n",
    "\n",
    "def cb_to_latency_df(cb: CallbackBase) -> pd.DataFrame:\n",
    "    return Latency(cb.to_records()).to_records().to_dataframe()\n",
    "\n",
    "\n",
    "for cb in filter_cbs(app.callbacks):\n",
    "    latency_df = cb_to_latency_df(cb)\n",
    "    if latency_df.empty:\n",
    "        continue\n",
    "    output_file = f\"{OUTPUT_DIR}/{cb.callback_name.replace('/', '-')}.txt\"\n",
    "    np.savetxt(output_file, latency_df.iloc[:, 1].values, fmt='%d')"
   ]
  },
  {
   "cell_type": "code",
   "execution_count": null,
   "metadata": {},
   "outputs": [],
   "source": []
  }
 ],
 "metadata": {
  "kernelspec": {
   "display_name": "Python 3",
   "language": "python",
   "name": "python3"
  },
  "language_info": {
   "codemirror_mode": {
    "name": "ipython",
    "version": 3
   },
   "file_extension": ".py",
   "mimetype": "text/x-python",
   "name": "python",
   "nbconvert_exporter": "python",
   "pygments_lexer": "ipython3",
   "version": "3.10.12"
  }
 },
 "nbformat": 4,
 "nbformat_minor": 2
}
